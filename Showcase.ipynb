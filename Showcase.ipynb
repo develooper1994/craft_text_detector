{
 "cells": [
  {
   "cell_type": "code",
   "execution_count": 1,
   "outputs": [],
   "source": [
    "import numpy as np\n",
    "from pprint import pprint\n",
    "\n",
    "import craft_text_detector as craft\n",
    "from craft_text_detector.word_to_line import sort_bbs_line_by_line"
   ],
   "metadata": {
    "collapsed": false,
    "pycharm": {
     "name": "#%% modules\n"
    }
   }
  },
  {
   "cell_type": "markdown",
   "source": [
    "#### set image path and export folder directory"
   ],
   "metadata": {
    "collapsed": false
   }
  },
  {
   "cell_type": "code",
   "execution_count": 2,
   "outputs": [],
   "source": [
    "image_name = 'idcard.png'\n",
    "image_path = 'figures/' + image_name\n",
    "output_dir = 'outputs/'"
   ],
   "metadata": {
    "collapsed": false,
    "pycharm": {
     "name": "#%%\n"
    }
   }
  },
  {
   "cell_type": "markdown",
   "source": [
    "#### read image"
   ],
   "metadata": {
    "collapsed": false
   }
  },
  {
   "cell_type": "code",
   "execution_count": 3,
   "outputs": [],
   "source": [
    "image = craft.imgproc.read_image(image_path)"
   ],
   "metadata": {
    "collapsed": false,
    "pycharm": {
     "name": "#%%\n"
    }
   }
  },
  {
   "cell_type": "markdown",
   "source": [
    "#### load models"
   ],
   "metadata": {
    "collapsed": false
   }
  },
  {
   "cell_type": "code",
   "execution_count": 4,
   "outputs": [],
   "source": [
    "craft_model_path = \"../craft_mlt_25k.pth\"\n",
    "refinenet_model_path = \"../craft_refiner_CTW1500.pth\"\n",
    "craft_net = craft.craft_detector.craft_detector(image=image,\n",
    "                                 craft_model_path=craft_model_path,\n",
    "                                 refinenet_model_path=refinenet_model_path,\n",
    "                                 cuda=True)\n"
   ],
   "metadata": {
    "collapsed": false,
    "pycharm": {
     "name": "#%%\n"
    }
   }
  },
  {
   "cell_type": "markdown",
   "source": [
    "#### perform prediction"
   ],
   "metadata": {
    "collapsed": false
   }
  },
  {
   "cell_type": "code",
   "execution_count": 5,
   "outputs": [
    {
     "name": "stdout",
     "output_type": "stream",
     "text": [
      "\n",
      "infer/postproc time : 0.160/0.040\n"
     ]
    }
   ],
   "source": [
    "text_threshold = 0.9\n",
    "link_threshold = 0.2\n",
    "low_text = 0.2\n",
    "cuda = True  # False\n",
    "show_time = False\n",
    "# perform prediction\n",
    "prediction_result = craft_net(image=image,\n",
    "                         text_threshold=0.7,\n",
    "                         link_threshold=0.4,\n",
    "                         low_text=0.4,\n",
    "                         square_size=1280,\n",
    "                         show_time=True)"
   ],
   "metadata": {
    "collapsed": false,
    "pycharm": {
     "name": "#%%\n"
    }
   }
  },
  {
   "cell_type": "markdown",
   "source": [
    "### Inspect predicted results"
   ],
   "metadata": {
    "collapsed": false
   }
  },
  {
   "cell_type": "code",
   "source": [
    "keys = prediction_result.keys()\n",
    "heatmap_keys = prediction_result[\"heatmaps\"].keys()\n",
    "pprint(keys)\n",
    "pprint(heatmap_keys)"
   ],
   "metadata": {
    "collapsed": false,
    "pycharm": {
     "name": "#%%\n"
    }
   },
   "execution_count": 6,
   "outputs": [
    {
     "name": "stdout",
     "output_type": "stream",
     "text": [
      "dict_keys(['boxes', 'boxes_as_ratios', 'polys', 'polys_as_ratios', 'heatmaps', 'times'])\n",
      "dict_keys(['text_score_heatmap', 'link_score_heatmap'])\n"
     ]
    }
   ]
  },
  {
   "cell_type": "code",
   "execution_count": 7,
   "outputs": [
    {
     "name": "stdout",
     "output_type": "stream",
     "text": [
      "(19, 4, 2)\n",
      "(19, 4, 2)\n",
      "(19,)\n",
      "(19,)\n",
      "(256, 400, 3)\n",
      "(256, 400, 3)\n"
     ]
    }
   ],
   "source": [
    "boxes = prediction_result['boxes']\n",
    "boxes_as_ratios = prediction_result['boxes_as_ratios']\n",
    "polys = prediction_result['polys']\n",
    "polys_as_ratios = prediction_result['polys_as_ratios']\n",
    "text_score_heatmap = prediction_result['heatmaps']['text_score_heatmap']\n",
    "link_score_heatmap = prediction_result['heatmaps']['link_score_heatmap']\n",
    "pprint(boxes.shape)\n",
    "pprint(boxes_as_ratios.shape)\n",
    "pprint(polys.shape)\n",
    "pprint(polys_as_ratios.shape)\n",
    "pprint(text_score_heatmap.shape)\n",
    "pprint(link_score_heatmap.shape)"
   ],
   "metadata": {
    "collapsed": false,
    "pycharm": {
     "name": "#%%\n"
    }
   }
  },
  {
   "cell_type": "code",
   "execution_count": 8,
   "outputs": [
    {
     "name": "stdout",
     "output_type": "stream",
     "text": [
      "(19, 4, 2)\n"
     ]
    }
   ],
   "source": [
    "coords = np.array(boxes).astype(np.int32)\n",
    "pprint(coords.shape)\n",
    "# pprint(coords[0:5])\n",
    "\n",
    "# line_bbs = sort_bbs_line_by_line(boxes)\n",
    "\n",
    "def coord_sort(boxes):\n",
    "    line=[]\n",
    "    lines=[]\n",
    "    number_of_box = boxes.shape[0]\n",
    "    # all bounding boxes.\n",
    "    for i, box in enumerate(boxes):\n",
    "        previous_box = None\n",
    "        box_x0, box_y0 = box[0::2]  # top- left corner <-> bottom- right corner\n",
    "        if previous_box is not None:\n",
    "            pass\n",
    "\n",
    "coord_sort(boxes)"
   ],
   "metadata": {
    "collapsed": false,
    "pycharm": {
     "name": "#%%\n"
    }
   }
  },
  {
   "cell_type": "markdown",
   "source": [
    "#### export detected text regions"
   ],
   "metadata": {
    "collapsed": false
   }
  },
  {
   "cell_type": "code",
   "execution_count": 9,
   "outputs": [],
   "source": [
    "exported_file_paths = craft.file_utils.export_detected_regions(\n",
    "    image_path=image_path,\n",
    "    image=image,\n",
    "    regions=prediction_result[\"boxes\"],\n",
    "    output_dir=output_dir,\n",
    "    rectify=True\n",
    ")"
   ],
   "metadata": {
    "collapsed": false,
    "pycharm": {
     "name": "#%%\n"
    }
   }
  },
  {
   "cell_type": "markdown",
   "source": [
    "#### export heatmap, detection points, box visualization"
   ],
   "metadata": {
    "collapsed": false
   }
  },
  {
   "cell_type": "code",
   "execution_count": 10,
   "outputs": [],
   "source": [
    "# gives (image)_text_detection.txt file\n",
    "craft.file_utils.export_extra_results(\n",
    "    image_path=image_path,\n",
    "    image=image,\n",
    "    regions=prediction_result[\"boxes\"],\n",
    "    heatmaps=prediction_result[\"heatmaps\"],\n",
    "    output_dir=output_dir\n",
    ")"
   ],
   "metadata": {
    "collapsed": false,
    "pycharm": {
     "name": "#%%\n"
    }
   }
  }
 ],
 "metadata": {
  "kernelspec": {
   "display_name": "Python 3",
   "language": "python",
   "name": "python3"
  },
  "language_info": {
   "codemirror_mode": {
    "name": "ipython",
    "version": 2
   },
   "file_extension": ".py",
   "mimetype": "text/x-python",
   "name": "python",
   "nbconvert_exporter": "python",
   "pygments_lexer": "ipython2",
   "version": "2.7.6"
  }
 },
 "nbformat": 4,
 "nbformat_minor": 0
}