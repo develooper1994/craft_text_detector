{
 "cells": [
  {
   "cell_type": "code",
   "execution_count": 1,
   "outputs": [],
   "source": [
    "import numpy as np\n",
    "from pprint import pprint\n",
    "\n",
    "import craft_text_detector as craft\n",
    "from craft_text_detector.word_to_line import sort_bbs_line_by_line"
   ],
   "metadata": {
    "collapsed": false,
    "pycharm": {
     "name": "#%% modules\n"
    }
   }
  },
  {
   "cell_type": "markdown",
   "source": [
    "#### set image path and export folder directory"
   ],
   "metadata": {
    "collapsed": false
   }
  },
  {
   "cell_type": "code",
   "execution_count": 2,
   "outputs": [],
   "source": [
    "image_name = 'idcard.png'\n",
    "image_path = 'figures/' + image_name\n",
    "output_dir = 'outputs/'"
   ],
   "metadata": {
    "collapsed": false,
    "pycharm": {
     "name": "#%%\n"
    }
   }
  },
  {
   "cell_type": "markdown",
   "source": [
    "#### read image"
   ],
   "metadata": {
    "collapsed": false
   }
  },
  {
   "cell_type": "code",
   "execution_count": 3,
   "outputs": [],
   "source": [
    "image = craft.read_image(image_path)"
   ],
   "metadata": {
    "collapsed": false,
    "pycharm": {
     "name": "#%%\n"
    }
   }
  },
  {
   "cell_type": "markdown",
   "source": [
    "#### load models"
   ],
   "metadata": {
    "collapsed": false
   }
  },
  {
   "cell_type": "code",
   "execution_count": 4,
   "outputs": [],
   "source": [
    "craft_model_path = \"../craft_mlt_25k.pth\"\n",
    "refinenet_model_path = \"../craft_refiner_CTW1500.pth\"\n",
    "craft_net = craft.craft_detector(image=image,\n",
    "                                 craft_model_path=craft_model_path,\n",
    "                                 refinenet_model_path=refinenet_model_path,\n",
    "                                 cuda=True)\n"
   ],
   "metadata": {
    "collapsed": false,
    "pycharm": {
     "name": "#%%\n"
    }
   }
  },
  {
   "cell_type": "markdown",
   "source": [
    "#### perform prediction"
   ],
   "metadata": {
    "collapsed": false
   }
  },
  {
   "cell_type": "code",
   "execution_count": 5,
   "outputs": [
    {
     "name": "stdout",
     "output_type": "stream",
     "text": [
      "\n",
      "infer/postproc time : 0.144/0.077\n"
     ]
    }
   ],
   "source": [
    "text_threshold = 0.9\n",
    "link_threshold = 0.2\n",
    "low_text = 0.2\n",
    "cuda = True  # False\n",
    "show_time = False\n",
    "# perform prediction\n",
    "prediction_result = craft_net(image=image,\n",
    "                         text_threshold=0.7,\n",
    "                         link_threshold=0.4,\n",
    "                         low_text=0.4,\n",
    "                         square_size=1280,\n",
    "                         show_time=True)"
   ],
   "metadata": {
    "collapsed": false,
    "pycharm": {
     "name": "#%%\n"
    }
   }
  },
  {
   "cell_type": "markdown",
   "source": [
    "### Inspect predicted results"
   ],
   "metadata": {
    "collapsed": false
   }
  },
  {
   "cell_type": "code",
   "source": [
    "keys = prediction_result.keys()\n",
    "heatmap_keys = prediction_result[\"heatmaps\"].keys()\n",
    "pprint(keys)\n",
    "pprint(heatmap_keys)"
   ],
   "metadata": {
    "collapsed": false,
    "pycharm": {
     "name": "#%%\n"
    }
   },
   "execution_count": 6,
   "outputs": [
    {
     "name": "stdout",
     "output_type": "stream",
     "text": [
      "dict_keys(['boxes', 'boxes_as_ratios', 'polys', 'polys_as_ratios', 'heatmaps', 'times'])\n",
      "dict_keys(['text_score_heatmap', 'link_score_heatmap'])\n"
     ]
    }
   ]
  },
  {
   "cell_type": "code",
   "execution_count": 7,
   "outputs": [
    {
     "name": "stdout",
     "output_type": "stream",
     "text": [
      "(19, 4, 2)\n",
      "(19, 4, 2)\n",
      "(19,)\n",
      "(19,)\n",
      "(256, 400, 3)\n",
      "(256, 400, 3)\n"
     ]
    }
   ],
   "source": [
    "boxes = prediction_result['boxes']\n",
    "boxes_as_ratios = prediction_result['boxes_as_ratios']\n",
    "polys = prediction_result['polys']\n",
    "polys_as_ratios = prediction_result['polys_as_ratios']\n",
    "text_score_heatmap = prediction_result['heatmaps']['text_score_heatmap']\n",
    "link_score_heatmap = prediction_result['heatmaps']['link_score_heatmap']\n",
    "pprint(boxes.shape)\n",
    "pprint(boxes_as_ratios.shape)\n",
    "pprint(polys.shape)\n",
    "pprint(polys_as_ratios.shape)\n",
    "pprint(text_score_heatmap.shape)\n",
    "pprint(link_score_heatmap.shape)"
   ],
   "metadata": {
    "collapsed": false,
    "pycharm": {
     "name": "#%%\n"
    }
   }
  },
  {
   "cell_type": "code",
   "execution_count": 9,
   "outputs": [
    {
     "name": "stdout",
     "output_type": "stream",
     "text": [
      "(19, 4, 2)\n"
     ]
    },
    {
     "ename": "KeyboardInterrupt",
     "evalue": "",
     "output_type": "error",
     "traceback": [
      "\u001B[1;31m---------------------------------------------------------------------------\u001B[0m",
      "\u001B[1;31mKeyboardInterrupt\u001B[0m                         Traceback (most recent call last)",
      "\u001B[1;32m<ipython-input-9-fd4c82f9fa27>\u001B[0m in \u001B[0;36m<module>\u001B[1;34m\u001B[0m\n\u001B[0;32m      4\u001B[0m \u001B[1;31m# pprint(coords[0:5])\u001B[0m\u001B[1;33m\u001B[0m\u001B[1;33m\u001B[0m\u001B[1;33m\u001B[0m\u001B[0m\n\u001B[0;32m      5\u001B[0m \u001B[1;33m\u001B[0m\u001B[0m\n\u001B[1;32m----> 6\u001B[1;33m \u001B[0mline_bbs\u001B[0m \u001B[1;33m=\u001B[0m \u001B[0msort_bbs_line_by_line\u001B[0m\u001B[1;33m(\u001B[0m\u001B[0mboxes\u001B[0m\u001B[1;33m)\u001B[0m\u001B[1;33m\u001B[0m\u001B[1;33m\u001B[0m\u001B[0m\n\u001B[0m\u001B[0;32m      7\u001B[0m \u001B[1;33m\u001B[0m\u001B[0m\n\u001B[0;32m      8\u001B[0m \u001B[1;31m# def coord_sort(boxes):\u001B[0m\u001B[1;33m\u001B[0m\u001B[1;33m\u001B[0m\u001B[1;33m\u001B[0m\u001B[0m\n",
      "\u001B[1;32m~\\PycharmProjects\\AI papers\\Character Region Awareness for Text Detection\\craft_text_detector\\craft_text_detector\\word_to_line.py\u001B[0m in \u001B[0;36msort_bbs_line_by_line\u001B[1;34m(bbs, y_overlap)\u001B[0m\n\u001B[0;32m    167\u001B[0m \u001B[1;33m\u001B[0m\u001B[0m\n\u001B[0;32m    168\u001B[0m \u001B[1;32mdef\u001B[0m \u001B[0msort_bbs_line_by_line\u001B[0m\u001B[1;33m(\u001B[0m\u001B[0mbbs\u001B[0m\u001B[1;33m,\u001B[0m \u001B[0my_overlap\u001B[0m\u001B[1;33m=\u001B[0m\u001B[1;36m0.2\u001B[0m\u001B[1;33m)\u001B[0m\u001B[1;33m:\u001B[0m\u001B[1;33m\u001B[0m\u001B[1;33m\u001B[0m\u001B[0m\n\u001B[1;32m--> 169\u001B[1;33m     '''\n\u001B[0m\u001B[0;32m    170\u001B[0m     \u001B[0mFunction\u001B[0m \u001B[0mto\u001B[0m \u001B[0mcombine\u001B[0m \u001B[0mword\u001B[0m \u001B[0mbbs\u001B[0m \u001B[0minto\u001B[0m \u001B[0mlines\u001B[0m\u001B[1;33m.\u001B[0m\u001B[1;33m\u001B[0m\u001B[1;33m\u001B[0m\u001B[0m\n\u001B[0;32m    171\u001B[0m     '''\n",
      "\u001B[1;32m~\\PycharmProjects\\AI papers\\Character Region Awareness for Text Detection\\craft_text_detector\\craft_text_detector\\word_to_line.py\u001B[0m in \u001B[0;36mcombine_bbs_into_lines\u001B[1;34m(bbs, y_overlap)\u001B[0m\n\u001B[0;32m    150\u001B[0m             \u001B[1;31m# line_overlap_percentage2 = _get_line_overlap_percentage(\u001B[0m\u001B[1;33m\u001B[0m\u001B[1;33m\u001B[0m\u001B[1;33m\u001B[0m\u001B[0m\n\u001B[0;32m    151\u001B[0m             \u001B[1;31m#     y_coords[0], y_coords[1],\u001B[0m\u001B[1;33m\u001B[0m\u001B[1;33m\u001B[0m\u001B[1;33m\u001B[0m\u001B[0m\n\u001B[1;32m--> 152\u001B[1;33m             \u001B[1;31m#     previous_y_coords[0], previous_y_coords[1])\u001B[0m\u001B[1;33m\u001B[0m\u001B[1;33m\u001B[0m\u001B[1;33m\u001B[0m\u001B[0m\n\u001B[0m\u001B[0;32m    153\u001B[0m             \u001B[1;31m# line_overlap_percentage = max(line_overlap_percentage1, line_overlap_percentage2)\u001B[0m\u001B[1;33m\u001B[0m\u001B[1;33m\u001B[0m\u001B[1;33m\u001B[0m\u001B[0m\n\u001B[0;32m    154\u001B[0m             \u001B[1;31m# if line_overlap_percentage < y_overlap:\u001B[0m\u001B[1;33m\u001B[0m\u001B[1;33m\u001B[0m\u001B[1;33m\u001B[0m\u001B[0m\n",
      "\u001B[1;32m~\\PycharmProjects\\AI papers\\Character Region Awareness for Text Detection\\craft_text_detector\\craft_text_detector\\word_to_line.py\u001B[0m in \u001B[0;36m_get_bounding_box_of_bb_list\u001B[1;34m(bbs_in_a_line)\u001B[0m\n\u001B[0;32m     62\u001B[0m     '''\n\u001B[0;32m     63\u001B[0m     \u001B[0mGiven\u001B[0m \u001B[0ma\u001B[0m \u001B[0mlist\u001B[0m \u001B[0mof\u001B[0m \u001B[0mbounding\u001B[0m \u001B[0mboxes\u001B[0m\u001B[1;33m,\u001B[0m \u001B[0mfind\u001B[0m \u001B[0mthe\u001B[0m \u001B[0mmaximum\u001B[0m \u001B[0mx\u001B[0m\u001B[1;33m,\u001B[0m \u001B[0my\u001B[0m \u001B[1;32mand\u001B[0m\u001B[1;33m\u001B[0m\u001B[1;33m\u001B[0m\u001B[0m\n\u001B[1;32m---> 64\u001B[1;33m     \u001B[0mminimum\u001B[0m \u001B[0mx\u001B[0m\u001B[1;33m,\u001B[0m \u001B[0my\u001B[0m \u001B[0mcoordinates\u001B[0m\u001B[1;33m.\u001B[0m \u001B[0mThis\u001B[0m \u001B[1;32mis\u001B[0m \u001B[0mthe\u001B[0m \u001B[0mbounding\u001B[0m \u001B[0mbox\u001B[0m \u001B[0mthat\u001B[0m\u001B[1;33m\u001B[0m\u001B[1;33m\u001B[0m\u001B[0m\n\u001B[0m\u001B[0;32m     65\u001B[0m     \u001B[0memcompasses\u001B[0m \u001B[0mall\u001B[0m \u001B[0mthe\u001B[0m \u001B[0mwords\u001B[0m\u001B[1;33m.\u001B[0m \u001B[0mReturn\u001B[0m \u001B[0mthis\u001B[0m \u001B[0mbounding\u001B[0m \u001B[0mbox\u001B[0m \u001B[1;32min\u001B[0m \u001B[0mthe\u001B[0m \u001B[0mform\u001B[0m\u001B[1;33m\u001B[0m\u001B[1;33m\u001B[0m\u001B[0m\n\u001B[0;32m     66\u001B[0m     \u001B[1;33m(\u001B[0m\u001B[0mx\u001B[0m\u001B[1;34m', y'\u001B[0m\u001B[1;33m,\u001B[0m \u001B[0mw\u001B[0m\u001B[1;34m', h'\u001B[0m\u001B[1;33m)\u001B[0m\u001B[1;33m.\u001B[0m\u001B[1;33m\u001B[0m\u001B[1;33m\u001B[0m\u001B[0m\n",
      "\u001B[1;32m~\\PycharmProjects\\AI papers\\Character Region Awareness for Text Detection\\craft_text_detector\\craft_text_detector\\word_to_line.py\u001B[0m in \u001B[0;36m_get_max_coord\u001B[1;34m(bbs, x_or_y)\u001B[0m\n\u001B[0;32m     26\u001B[0m     \u001B[1;32mfor\u001B[0m \u001B[0mbb\u001B[0m \u001B[1;32min\u001B[0m \u001B[0mbbs\u001B[0m\u001B[1;33m:\u001B[0m\u001B[1;33m\u001B[0m\u001B[1;33m\u001B[0m\u001B[0m\n\u001B[0;32m     27\u001B[0m         \u001B[1;31m# bb0 = bb[0]\u001B[0m\u001B[1;33m\u001B[0m\u001B[1;33m\u001B[0m\u001B[1;33m\u001B[0m\u001B[0m\n\u001B[1;32m---> 28\u001B[1;33m         \u001B[1;31m# box0_x0, box0_y0 = bb0[0::2]  # top- left corner <-> bottom- right corner\u001B[0m\u001B[1;33m\u001B[0m\u001B[1;33m\u001B[0m\u001B[1;33m\u001B[0m\u001B[0m\n\u001B[0m\u001B[0;32m     29\u001B[0m         \u001B[0mbox_x0\u001B[0m\u001B[1;33m,\u001B[0m \u001B[0mbox_y0\u001B[0m \u001B[1;33m=\u001B[0m \u001B[0mbb\u001B[0m\u001B[1;33m[\u001B[0m\u001B[1;36m0\u001B[0m\u001B[1;33m]\u001B[0m\u001B[1;33m\u001B[0m\u001B[1;33m\u001B[0m\u001B[0m\n\u001B[0;32m     30\u001B[0m         \u001B[1;31m# bb1 = bb[2]\u001B[0m\u001B[1;33m\u001B[0m\u001B[1;33m\u001B[0m\u001B[1;33m\u001B[0m\u001B[0m\n",
      "\u001B[1;32m~\\PycharmProjects\\AI papers\\Character Region Awareness for Text Detection\\craft_text_detector\\craft_text_detector\\word_to_line.py\u001B[0m in \u001B[0;36m_get_max_coord\u001B[1;34m(bbs, x_or_y)\u001B[0m\n\u001B[0;32m     26\u001B[0m     \u001B[1;32mfor\u001B[0m \u001B[0mbb\u001B[0m \u001B[1;32min\u001B[0m \u001B[0mbbs\u001B[0m\u001B[1;33m:\u001B[0m\u001B[1;33m\u001B[0m\u001B[1;33m\u001B[0m\u001B[0m\n\u001B[0;32m     27\u001B[0m         \u001B[1;31m# bb0 = bb[0]\u001B[0m\u001B[1;33m\u001B[0m\u001B[1;33m\u001B[0m\u001B[1;33m\u001B[0m\u001B[0m\n\u001B[1;32m---> 28\u001B[1;33m         \u001B[1;31m# box0_x0, box0_y0 = bb0[0::2]  # top- left corner <-> bottom- right corner\u001B[0m\u001B[1;33m\u001B[0m\u001B[1;33m\u001B[0m\u001B[1;33m\u001B[0m\u001B[0m\n\u001B[0m\u001B[0;32m     29\u001B[0m         \u001B[0mbox_x0\u001B[0m\u001B[1;33m,\u001B[0m \u001B[0mbox_y0\u001B[0m \u001B[1;33m=\u001B[0m \u001B[0mbb\u001B[0m\u001B[1;33m[\u001B[0m\u001B[1;36m0\u001B[0m\u001B[1;33m]\u001B[0m\u001B[1;33m\u001B[0m\u001B[1;33m\u001B[0m\u001B[0m\n\u001B[0;32m     30\u001B[0m         \u001B[1;31m# bb1 = bb[2]\u001B[0m\u001B[1;33m\u001B[0m\u001B[1;33m\u001B[0m\u001B[1;33m\u001B[0m\u001B[0m\n",
      "\u001B[1;32m_pydevd_bundle\\pydevd_cython_win32_37_64.pyx\u001B[0m in \u001B[0;36m_pydevd_bundle.pydevd_cython_win32_37_64.SafeCallWrapper.__call__\u001B[1;34m()\u001B[0m\n",
      "\u001B[1;32m_pydevd_bundle\\pydevd_cython_win32_37_64.pyx\u001B[0m in \u001B[0;36m_pydevd_bundle.pydevd_cython_win32_37_64.PyDBFrame.trace_dispatch\u001B[1;34m()\u001B[0m\n",
      "\u001B[1;32m_pydevd_bundle\\pydevd_cython_win32_37_64.pyx\u001B[0m in \u001B[0;36m_pydevd_bundle.pydevd_cython_win32_37_64.PyDBFrame.trace_dispatch\u001B[1;34m()\u001B[0m\n",
      "\u001B[1;32m_pydevd_bundle\\pydevd_cython_win32_37_64.pyx\u001B[0m in \u001B[0;36m_pydevd_bundle.pydevd_cython_win32_37_64.PyDBFrame.trace_dispatch\u001B[1;34m()\u001B[0m\n",
      "\u001B[1;32m_pydevd_bundle\\pydevd_cython_win32_37_64.pyx\u001B[0m in \u001B[0;36m_pydevd_bundle.pydevd_cython_win32_37_64.PyDBFrame.do_wait_suspend\u001B[1;34m()\u001B[0m\n",
      "\u001B[1;32m~\\AppData\\Local\\JetBrains\\Toolbox\\apps\\PyCharm-P\\ch-0\\201.7223.92\\plugins\\python\\helpers\\pydev\\pydevd.py\u001B[0m in \u001B[0;36mdo_wait_suspend\u001B[1;34m(self, thread, frame, event, arg, send_suspend_message, is_unhandled_exception)\u001B[0m\n\u001B[0;32m   1101\u001B[0m \u001B[1;33m\u001B[0m\u001B[0m\n\u001B[0;32m   1102\u001B[0m         \u001B[1;32mwith\u001B[0m \u001B[0mself\u001B[0m\u001B[1;33m.\u001B[0m\u001B[0m_threads_suspended_single_notification\u001B[0m\u001B[1;33m.\u001B[0m\u001B[0mnotify_thread_suspended\u001B[0m\u001B[1;33m(\u001B[0m\u001B[0mthread_id\u001B[0m\u001B[1;33m,\u001B[0m \u001B[0mstop_reason\u001B[0m\u001B[1;33m)\u001B[0m\u001B[1;33m:\u001B[0m\u001B[1;33m\u001B[0m\u001B[1;33m\u001B[0m\u001B[0m\n\u001B[1;32m-> 1103\u001B[1;33m             \u001B[0mself\u001B[0m\u001B[1;33m.\u001B[0m\u001B[0m_do_wait_suspend\u001B[0m\u001B[1;33m(\u001B[0m\u001B[0mthread\u001B[0m\u001B[1;33m,\u001B[0m \u001B[0mframe\u001B[0m\u001B[1;33m,\u001B[0m \u001B[0mevent\u001B[0m\u001B[1;33m,\u001B[0m \u001B[0marg\u001B[0m\u001B[1;33m,\u001B[0m \u001B[0msuspend_type\u001B[0m\u001B[1;33m,\u001B[0m \u001B[0mfrom_this_thread\u001B[0m\u001B[1;33m)\u001B[0m\u001B[1;33m\u001B[0m\u001B[1;33m\u001B[0m\u001B[0m\n\u001B[0m\u001B[0;32m   1104\u001B[0m \u001B[1;33m\u001B[0m\u001B[0m\n\u001B[0;32m   1105\u001B[0m     \u001B[1;32mdef\u001B[0m \u001B[0m_do_wait_suspend\u001B[0m\u001B[1;33m(\u001B[0m\u001B[0mself\u001B[0m\u001B[1;33m,\u001B[0m \u001B[0mthread\u001B[0m\u001B[1;33m,\u001B[0m \u001B[0mframe\u001B[0m\u001B[1;33m,\u001B[0m \u001B[0mevent\u001B[0m\u001B[1;33m,\u001B[0m \u001B[0marg\u001B[0m\u001B[1;33m,\u001B[0m \u001B[0msuspend_type\u001B[0m\u001B[1;33m,\u001B[0m \u001B[0mfrom_this_thread\u001B[0m\u001B[1;33m)\u001B[0m\u001B[1;33m:\u001B[0m\u001B[1;33m\u001B[0m\u001B[1;33m\u001B[0m\u001B[0m\n",
      "\u001B[1;32m~\\AppData\\Local\\JetBrains\\Toolbox\\apps\\PyCharm-P\\ch-0\\201.7223.92\\plugins\\python\\helpers\\pydev\\pydevd.py\u001B[0m in \u001B[0;36m_do_wait_suspend\u001B[1;34m(self, thread, frame, event, arg, suspend_type, from_this_thread)\u001B[0m\n\u001B[0;32m   1116\u001B[0m \u001B[1;33m\u001B[0m\u001B[0m\n\u001B[0;32m   1117\u001B[0m                 \u001B[0mself\u001B[0m\u001B[1;33m.\u001B[0m\u001B[0mprocess_internal_commands\u001B[0m\u001B[1;33m(\u001B[0m\u001B[1;33m)\u001B[0m\u001B[1;33m\u001B[0m\u001B[1;33m\u001B[0m\u001B[0m\n\u001B[1;32m-> 1118\u001B[1;33m                 \u001B[0mtime\u001B[0m\u001B[1;33m.\u001B[0m\u001B[0msleep\u001B[0m\u001B[1;33m(\u001B[0m\u001B[1;36m0.01\u001B[0m\u001B[1;33m)\u001B[0m\u001B[1;33m\u001B[0m\u001B[1;33m\u001B[0m\u001B[0m\n\u001B[0m\u001B[0;32m   1119\u001B[0m \u001B[1;33m\u001B[0m\u001B[0m\n\u001B[0;32m   1120\u001B[0m         \u001B[0mself\u001B[0m\u001B[1;33m.\u001B[0m\u001B[0mcancel_async_evaluation\u001B[0m\u001B[1;33m(\u001B[0m\u001B[0mget_current_thread_id\u001B[0m\u001B[1;33m(\u001B[0m\u001B[0mthread\u001B[0m\u001B[1;33m)\u001B[0m\u001B[1;33m,\u001B[0m \u001B[0mstr\u001B[0m\u001B[1;33m(\u001B[0m\u001B[0mid\u001B[0m\u001B[1;33m(\u001B[0m\u001B[0mframe\u001B[0m\u001B[1;33m)\u001B[0m\u001B[1;33m)\u001B[0m\u001B[1;33m)\u001B[0m\u001B[1;33m\u001B[0m\u001B[1;33m\u001B[0m\u001B[0m\n",
      "\u001B[1;31mKeyboardInterrupt\u001B[0m: "
     ]
    }
   ],
   "source": [
    "coords = np.array(boxes).astype(np.int32)\n",
    "pprint(coords.shape)\n",
    "# pprint(coords[0:5])\n",
    "\n",
    "# line_bbs = sort_bbs_line_by_line(boxes)\n",
    "\n",
    "def coord_sort(boxes):\n",
    "    line=[]\n",
    "    lines=[]\n",
    "    number_of_box = boxes.shape[0]\n",
    "    # all bounding boxes.\n",
    "    for i, box in enumerate(boxes):\n",
    "        previous_box = None\n",
    "        box_x0, box_y0 = box[0::2]  # top- left corner <-> bottom- right corner\n",
    "        if previous_box is not None:\n",
    "            pass\n",
    "\n",
    "coord_sort(boxes)"
   ],
   "metadata": {
    "collapsed": false,
    "pycharm": {
     "name": "#%%\n"
    }
   }
  },
  {
   "cell_type": "markdown",
   "source": [
    "#### export detected text regions"
   ],
   "metadata": {
    "collapsed": false
   }
  },
  {
   "cell_type": "code",
   "execution_count": 17,
   "outputs": [],
   "source": [
    "exported_file_paths = craft.export_detected_regions(\n",
    "    image_path=image_path,\n",
    "    image=image,\n",
    "    regions=prediction_result[\"boxes\"],\n",
    "    output_dir=output_dir,\n",
    "    rectify=True\n",
    ")"
   ],
   "metadata": {
    "collapsed": false,
    "pycharm": {
     "name": "#%%\n"
    }
   }
  },
  {
   "cell_type": "markdown",
   "source": [
    "#### export heatmap, detection points, box visualization"
   ],
   "metadata": {
    "collapsed": false
   }
  },
  {
   "cell_type": "code",
   "execution_count": 30,
   "outputs": [],
   "source": [
    "# gives (image)_text_detection.txt file\n",
    "craft.export_extra_results(\n",
    "    image_path=image_path,\n",
    "    image=image,\n",
    "    regions=prediction_result[\"boxes\"],\n",
    "    heatmaps=prediction_result[\"heatmaps\"],\n",
    "    output_dir=output_dir\n",
    ")"
   ],
   "metadata": {
    "collapsed": false,
    "pycharm": {
     "name": "#%%\n"
    }
   }
  }
 ],
 "metadata": {
  "kernelspec": {
   "display_name": "Python 3",
   "language": "python",
   "name": "python3"
  },
  "language_info": {
   "codemirror_mode": {
    "name": "ipython",
    "version": 2
   },
   "file_extension": ".py",
   "mimetype": "text/x-python",
   "name": "python",
   "nbconvert_exporter": "python",
   "pygments_lexer": "ipython2",
   "version": "2.7.6"
  }
 },
 "nbformat": 4,
 "nbformat_minor": 0
}